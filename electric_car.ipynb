{
 "cells": [
  {
   "cell_type": "markdown",
   "metadata": {},
   "source": [
    "Problem statement: Predict price of a electric car, based on certain predictors. \n",
    "The data consists of 180 vehicles and there are some missing values as well. \n",
    "We can conduct various data analytics visualizations to understand the data and information. This gives us an idea about the market as a whole and overall data distribution. Often, \n",
    "this type of data gives insight into the market and lets businesses conduct market research. The electric vehicle market is growing at a fast pace, with proper investment and research, the field can be improved and a higher level of efficiency can be achieved.\n"
   ]
  },
  {
   "cell_type": "code",
   "execution_count": 1,
   "metadata": {},
   "outputs": [],
   "source": [
    "import numpy as np\n",
    "import pandas as pd \n",
    "import matplotlib.pyplot as plt\n",
    "import seaborn as sns"
   ]
  },
  {
   "cell_type": "code",
   "execution_count": 2,
   "metadata": {},
   "outputs": [],
   "source": [
    "df1= pd.read_csv('Cheapestelectriccars-EVDatabase.csv')"
   ]
  },
  {
   "cell_type": "code",
   "execution_count": 3,
   "metadata": {},
   "outputs": [
    {
     "data": {
      "text/html": [
       "<div>\n",
       "<style scoped>\n",
       "    .dataframe tbody tr th:only-of-type {\n",
       "        vertical-align: middle;\n",
       "    }\n",
       "\n",
       "    .dataframe tbody tr th {\n",
       "        vertical-align: top;\n",
       "    }\n",
       "\n",
       "    .dataframe thead th {\n",
       "        text-align: right;\n",
       "    }\n",
       "</style>\n",
       "<table border=\"1\" class=\"dataframe\">\n",
       "  <thead>\n",
       "    <tr style=\"text-align: right;\">\n",
       "      <th></th>\n",
       "      <th>Name</th>\n",
       "      <th>Subtitle</th>\n",
       "      <th>Acceleration</th>\n",
       "      <th>TopSpeed</th>\n",
       "      <th>Range</th>\n",
       "      <th>Efficiency</th>\n",
       "      <th>FastChargeSpeed</th>\n",
       "      <th>Drive</th>\n",
       "      <th>NumberofSeats</th>\n",
       "      <th>PriceinGermany</th>\n",
       "      <th>PriceinUK</th>\n",
       "    </tr>\n",
       "  </thead>\n",
       "  <tbody>\n",
       "    <tr>\n",
       "      <th>0</th>\n",
       "      <td>Opel Ampera-e</td>\n",
       "      <td>Battery Electric Vehicle |       58 kWh</td>\n",
       "      <td>7.3 sec</td>\n",
       "      <td>150 km/h</td>\n",
       "      <td>335 km</td>\n",
       "      <td>173 Wh/km</td>\n",
       "      <td>210 km/h</td>\n",
       "      <td>Front Wheel Drive</td>\n",
       "      <td>5</td>\n",
       "      <td>€42,990</td>\n",
       "      <td>NaN</td>\n",
       "    </tr>\n",
       "    <tr>\n",
       "      <th>1</th>\n",
       "      <td>Renault Kangoo Maxi ZE 33</td>\n",
       "      <td>Battery Electric Vehicle |       31 kWh</td>\n",
       "      <td>22.4 sec</td>\n",
       "      <td>130 km/h</td>\n",
       "      <td>160 km</td>\n",
       "      <td>194 Wh/km</td>\n",
       "      <td>-</td>\n",
       "      <td>Front Wheel Drive</td>\n",
       "      <td>5</td>\n",
       "      <td>NaN</td>\n",
       "      <td>£31,680</td>\n",
       "    </tr>\n",
       "  </tbody>\n",
       "</table>\n",
       "</div>"
      ],
      "text/plain": [
       "                        Name                                  Subtitle  \\\n",
       "0             Opel Ampera-e   Battery Electric Vehicle |       58 kWh    \n",
       "1  Renault Kangoo Maxi ZE 33  Battery Electric Vehicle |       31 kWh    \n",
       "\n",
       "  Acceleration  TopSpeed   Range Efficiency FastChargeSpeed  \\\n",
       "0      7.3 sec  150 km/h  335 km  173 Wh/km        210 km/h   \n",
       "1     22.4 sec  130 km/h  160 km  194 Wh/km               -   \n",
       "\n",
       "               Drive  NumberofSeats PriceinGermany PriceinUK  \n",
       "0  Front Wheel Drive              5        €42,990       NaN  \n",
       "1  Front Wheel Drive              5            NaN   £31,680  "
      ]
     },
     "execution_count": 3,
     "metadata": {},
     "output_type": "execute_result"
    }
   ],
   "source": [
    "df1.head(2)"
   ]
  },
  {
   "cell_type": "code",
   "execution_count": 4,
   "metadata": {},
   "outputs": [
    {
     "data": {
      "text/plain": [
       "Name               180\n",
       "Subtitle           180\n",
       "Acceleration       180\n",
       "TopSpeed           180\n",
       "Range              180\n",
       "Efficiency         180\n",
       "FastChargeSpeed    180\n",
       "Drive              180\n",
       "NumberofSeats      180\n",
       "PriceinGermany     168\n",
       "PriceinUK          136\n",
       "dtype: int64"
      ]
     },
     "execution_count": 4,
     "metadata": {},
     "output_type": "execute_result"
    }
   ],
   "source": [
    "df1.count()"
   ]
  },
  {
   "cell_type": "code",
   "execution_count": 5,
   "metadata": {},
   "outputs": [
    {
     "data": {
      "text/html": [
       "<div>\n",
       "<style scoped>\n",
       "    .dataframe tbody tr th:only-of-type {\n",
       "        vertical-align: middle;\n",
       "    }\n",
       "\n",
       "    .dataframe tbody tr th {\n",
       "        vertical-align: top;\n",
       "    }\n",
       "\n",
       "    .dataframe thead th {\n",
       "        text-align: right;\n",
       "    }\n",
       "</style>\n",
       "<table border=\"1\" class=\"dataframe\">\n",
       "  <thead>\n",
       "    <tr style=\"text-align: right;\">\n",
       "      <th></th>\n",
       "      <th>NumberofSeats</th>\n",
       "    </tr>\n",
       "  </thead>\n",
       "  <tbody>\n",
       "    <tr>\n",
       "      <th>count</th>\n",
       "      <td>180.000000</td>\n",
       "    </tr>\n",
       "    <tr>\n",
       "      <th>mean</th>\n",
       "      <td>5.166667</td>\n",
       "    </tr>\n",
       "    <tr>\n",
       "      <th>std</th>\n",
       "      <td>0.971666</td>\n",
       "    </tr>\n",
       "    <tr>\n",
       "      <th>min</th>\n",
       "      <td>2.000000</td>\n",
       "    </tr>\n",
       "    <tr>\n",
       "      <th>25%</th>\n",
       "      <td>5.000000</td>\n",
       "    </tr>\n",
       "    <tr>\n",
       "      <th>50%</th>\n",
       "      <td>5.000000</td>\n",
       "    </tr>\n",
       "    <tr>\n",
       "      <th>75%</th>\n",
       "      <td>5.000000</td>\n",
       "    </tr>\n",
       "    <tr>\n",
       "      <th>max</th>\n",
       "      <td>7.000000</td>\n",
       "    </tr>\n",
       "  </tbody>\n",
       "</table>\n",
       "</div>"
      ],
      "text/plain": [
       "       NumberofSeats\n",
       "count     180.000000\n",
       "mean        5.166667\n",
       "std         0.971666\n",
       "min         2.000000\n",
       "25%         5.000000\n",
       "50%         5.000000\n",
       "75%         5.000000\n",
       "max         7.000000"
      ]
     },
     "execution_count": 5,
     "metadata": {},
     "output_type": "execute_result"
    }
   ],
   "source": [
    "df1.describe()"
   ]
  },
  {
   "cell_type": "code",
   "execution_count": 6,
   "metadata": {},
   "outputs": [
    {
     "name": "stdout",
     "output_type": "stream",
     "text": [
      "<class 'pandas.core.frame.DataFrame'>\n",
      "RangeIndex: 180 entries, 0 to 179\n",
      "Data columns (total 11 columns):\n",
      " #   Column           Non-Null Count  Dtype \n",
      "---  ------           --------------  ----- \n",
      " 0   Name             180 non-null    object\n",
      " 1   Subtitle         180 non-null    object\n",
      " 2   Acceleration     180 non-null    object\n",
      " 3   TopSpeed         180 non-null    object\n",
      " 4   Range            180 non-null    object\n",
      " 5   Efficiency       180 non-null    object\n",
      " 6   FastChargeSpeed  180 non-null    object\n",
      " 7   Drive            180 non-null    object\n",
      " 8   NumberofSeats    180 non-null    int64 \n",
      " 9   PriceinGermany   168 non-null    object\n",
      " 10  PriceinUK        136 non-null    object\n",
      "dtypes: int64(1), object(10)\n",
      "memory usage: 15.6+ KB\n"
     ]
    }
   ],
   "source": [
    "df1.info()"
   ]
  },
  {
   "cell_type": "code",
   "execution_count": 7,
   "metadata": {},
   "outputs": [
    {
     "data": {
      "text/plain": [
       "Name                0\n",
       "Subtitle            0\n",
       "Acceleration        0\n",
       "TopSpeed            0\n",
       "Range               0\n",
       "Efficiency          0\n",
       "FastChargeSpeed     0\n",
       "Drive               0\n",
       "NumberofSeats       0\n",
       "PriceinGermany     12\n",
       "PriceinUK          44\n",
       "dtype: int64"
      ]
     },
     "execution_count": 7,
     "metadata": {},
     "output_type": "execute_result"
    }
   ],
   "source": [
    "df1.isna().sum()"
   ]
  },
  {
   "cell_type": "code",
   "execution_count": 19,
   "metadata": {},
   "outputs": [],
   "source": [
    "#filling empty data with 0\n",
    "df1 = df1.fillna('0')"
   ]
  },
  {
   "cell_type": "code",
   "execution_count": 9,
   "metadata": {},
   "outputs": [
    {
     "data": {
      "text/plain": [
       "Name               0\n",
       "Subtitle           0\n",
       "Acceleration       0\n",
       "TopSpeed           0\n",
       "Range              0\n",
       "Efficiency         0\n",
       "FastChargeSpeed    0\n",
       "Drive              0\n",
       "NumberofSeats      0\n",
       "PriceinGermany     0\n",
       "PriceinUK          0\n",
       "dtype: int64"
      ]
     },
     "execution_count": 9,
     "metadata": {},
     "output_type": "execute_result"
    }
   ],
   "source": [
    "df1.isna().sum()"
   ]
  },
  {
   "cell_type": "code",
   "execution_count": 10,
   "metadata": {},
   "outputs": [],
   "source": [
    "#Get the name of the car manufacturer \n",
    "df1['Manufacturer'] = df1.Name.str.split(' ', 1, expand=True)[0]"
   ]
  },
  {
   "cell_type": "code",
   "execution_count": 11,
   "metadata": {},
   "outputs": [
    {
     "data": {
      "text/plain": [
       "0         Opel\n",
       "1      Renault\n",
       "2       Nissan\n",
       "3         Audi\n",
       "4      Porsche\n",
       "        ...   \n",
       "175         MG\n",
       "176      Tesla\n",
       "177         MG\n",
       "178       Audi\n",
       "179       Audi\n",
       "Name: Manufacturer, Length: 180, dtype: object"
      ]
     },
     "execution_count": 11,
     "metadata": {},
     "output_type": "execute_result"
    }
   ],
   "source": [
    "df1['Manufacturer']"
   ]
  },
  {
   "cell_type": "code",
   "execution_count": 12,
   "metadata": {},
   "outputs": [],
   "source": [
    "pd.options.display.float_format = '{:,.0f}'.format"
   ]
  },
  {
   "cell_type": "code",
   "execution_count": 13,
   "metadata": {},
   "outputs": [],
   "source": [
    "#cleaning the data (Pandas metod)\n",
    "#removing currency sign\n",
    "\n",
    "df1['PriceinUK'] = pd.to_numeric(df1.PriceinUK.replace({'£':''}, regex=True).replace({',':''}, regex=True), errors='coerce')\n",
    "\n"
   ]
  },
  {
   "cell_type": "code",
   "execution_count": null,
   "metadata": {},
   "outputs": [],
   "source": [
    " \"\"\"#cleaning the data (alternative method using python)\n",
    "#removing currency sign\n",
    "/*PriceinUK=[]\n",
    "for item in df1['PriceinUK']:\n",
    "    PriceinUK+=[int(item.replace('£','').replace(',',''))]\n",
    "df1['PriceinUK']=PriceinUK\"\"\" "
   ]
  },
  {
   "cell_type": "code",
   "execution_count": 14,
   "metadata": {},
   "outputs": [
    {
     "data": {
      "text/plain": [
       "0         0\n",
       "1     31680\n",
       "2     25995\n",
       "3     79900\n",
       "4    138830\n",
       "Name: PriceinUK, dtype: int64"
      ]
     },
     "execution_count": 14,
     "metadata": {},
     "output_type": "execute_result"
    }
   ],
   "source": [
    "df1['PriceinUK'].head()"
   ]
  },
  {
   "cell_type": "code",
   "execution_count": null,
   "metadata": {},
   "outputs": [],
   "source": [
    "\"\"\"PriceinGermany=[]\n",
    "for item in df1['PriceinGermany']:\n",
    "    PriceinGermany+=[int(item.replace('€','').replace(',',''))]\n",
    "df1['PriceinGermany']=PriceinGermany\"\"\""
   ]
  },
  {
   "cell_type": "code",
   "execution_count": 15,
   "metadata": {},
   "outputs": [],
   "source": [
    "df1.PriceinGermany = pd.to_numeric(df1.PriceinGermany.replace({'€':''}, regex=True).replace({',':''}, regex=True), errors='coerce')"
   ]
  },
  {
   "cell_type": "code",
   "execution_count": 16,
   "metadata": {},
   "outputs": [
    {
     "data": {
      "text/plain": [
       "0     42990\n",
       "1         0\n",
       "2     29990\n",
       "3         0\n",
       "4    186336\n",
       "Name: PriceinGermany, dtype: int64"
      ]
     },
     "execution_count": 16,
     "metadata": {},
     "output_type": "execute_result"
    }
   ],
   "source": [
    "df1.PriceinGermany.head()"
   ]
  },
  {
   "cell_type": "code",
   "execution_count": null,
   "metadata": {},
   "outputs": [],
   "source": [
    "\"\"\"FastChargeSpeed=[]\n",
    "for item in df1['FastChargeSpeed']:\n",
    "    FastChargeSpeed+=[int(item.replace(' km/h','').replace('-','0'))]\n",
    "df1['FastChargeSpeed']=FastChargeSpeed\"\"\""
   ]
  },
  {
   "cell_type": "code",
   "execution_count": 17,
   "metadata": {},
   "outputs": [],
   "source": [
    "df1.FastChargeSpeed = pd.to_numeric(df1.FastChargeSpeed.replace({'km/h':''}, regex=True).replace({'-':''}, regex=True), errors='coerce')  "
   ]
  },
  {
   "cell_type": "code",
   "execution_count": 20,
   "metadata": {},
   "outputs": [
    {
     "data": {
      "text/plain": [
       "0     210\n",
       "1       0\n",
       "2     230\n",
       "3     600\n",
       "4     860\n",
       "       ..\n",
       "175   390\n",
       "176   820\n",
       "177   340\n",
       "178   470\n",
       "179   520\n",
       "Name: FastChargeSpeed, Length: 180, dtype: object"
      ]
     },
     "execution_count": 20,
     "metadata": {},
     "output_type": "execute_result"
    }
   ],
   "source": [
    "df1.FastChargeSpeed"
   ]
  },
  {
   "cell_type": "code",
   "execution_count": null,
   "metadata": {},
   "outputs": [],
   "source": [
    "\"\"\"Efficiency=[]\n",
    "for item in df1['Efficiency']:\n",
    "    Efficiency+=[int(item.replace(' Wh/km',''))]\n",
    "df1['Efficiency']=Efficiency\"\"\""
   ]
  },
  {
   "cell_type": "code",
   "execution_count": 21,
   "metadata": {},
   "outputs": [],
   "source": [
    "df1.Efficiency = pd.to_numeric(df1.Efficiency.replace({' Wh/km':''}, regex=True), errors='coerce') "
   ]
  },
  {
   "cell_type": "code",
   "execution_count": 22,
   "metadata": {},
   "outputs": [
    {
     "data": {
      "text/plain": [
       "0      173\n",
       "1      194\n",
       "2      164\n",
       "3      231\n",
       "4      215\n",
       "      ... \n",
       "175    191\n",
       "176    155\n",
       "177    168\n",
       "178    199\n",
       "179    180\n",
       "Name: Efficiency, Length: 180, dtype: int64"
      ]
     },
     "execution_count": 22,
     "metadata": {},
     "output_type": "execute_result"
    }
   ],
   "source": [
    "df1.Efficiency"
   ]
  },
  {
   "cell_type": "code",
   "execution_count": 23,
   "metadata": {},
   "outputs": [
    {
     "data": {
      "text/plain": [
       "0      335\n",
       "1      160\n",
       "2      220\n",
       "3      375\n",
       "4      390\n",
       "      ... \n",
       "175    340\n",
       "176    490\n",
       "177    340\n",
       "178    385\n",
       "179    425\n",
       "Name: Range, Length: 180, dtype: int64"
      ]
     },
     "execution_count": 23,
     "metadata": {},
     "output_type": "execute_result"
    }
   ],
   "source": [
    "df1.Range = pd.to_numeric(df1.Range.replace({' km':''}, regex=True), errors='coerce') \n",
    "\n",
    "\"\"\"Range=[]\n",
    "for item in df1['Range']:\n",
    "    Range+=[int(item.replace(' km',''))]\n",
    "df1['Range']=Range\"\"\"\n",
    "df1.Range"
   ]
  },
  {
   "cell_type": "code",
   "execution_count": 24,
   "metadata": {},
   "outputs": [
    {
     "data": {
      "text/plain": [
       "0      150\n",
       "1      130\n",
       "2      144\n",
       "3      200\n",
       "4      260\n",
       "      ... \n",
       "175    200\n",
       "176    233\n",
       "177    185\n",
       "178    180\n",
       "179    160\n",
       "Name: TopSpeed, Length: 180, dtype: int64"
      ]
     },
     "execution_count": 24,
     "metadata": {},
     "output_type": "execute_result"
    }
   ],
   "source": [
    "df1.TopSpeed = pd.to_numeric(df1.TopSpeed.replace({' km/h':''}, regex=True), errors='coerce') \n",
    "\n",
    "\"\"\"TopSpeed=[]\n",
    "for item in df1['TopSpeed']:\n",
    "    TopSpeed+=[int(item.replace(' km/h',''))]\n",
    "df1['TopSpeed']=TopSpeed\"\"\"\n",
    "\n",
    "df1.TopSpeed "
   ]
  },
  {
   "cell_type": "code",
   "execution_count": 25,
   "metadata": {},
   "outputs": [],
   "source": [
    "pd.options.display.float_format = '{:,.2f}'.format"
   ]
  },
  {
   "cell_type": "code",
   "execution_count": 26,
   "metadata": {},
   "outputs": [
    {
     "data": {
      "text/plain": [
       "0    7.30\n",
       "1   22.40\n",
       "2    7.90\n",
       "3    5.70\n",
       "4    2.80\n",
       "Name: Acceleration, dtype: float64"
      ]
     },
     "execution_count": 26,
     "metadata": {},
     "output_type": "execute_result"
    }
   ],
   "source": [
    "df1.Acceleration = pd.to_numeric(df1.Acceleration.replace({' sec':''}, regex=True), errors='coerce') \n",
    "#df1.Acceleration = df1.Acceleration.replace({' sec':''}, regex=True)\n",
    "\"\"\"Acceleration=[]\n",
    "for item in df1['Acceleration']:\n",
    "    Acceleration+=[float(item.replace(' sec',''))]\n",
    "df1['Acceleration']=Acceleration\"\"\"\n",
    "df1.Acceleration.head()"
   ]
  },
  {
   "cell_type": "code",
   "execution_count": 27,
   "metadata": {},
   "outputs": [],
   "source": [
    "#df1.Subtitle = pd.to_numeric(df1.Subtitle.replace({'Battery Electric Vehicle | ':''}, regex=True).replace({' kWh':''}, regex=True).replace({'      ':''},regex=True), errors='coerce') \n",
    "\n",
    "#df1.Subtitle = df1.Subtitle.replace({'kWh':''}, regex=True)\n",
    "#df1.Subtitle = df1.Subtitle.replace({'Battery Electric Vehicle |':''}, regex=True)\n",
    "#df1.Subtitle = df1.Subtitle.replace({'|':''},regex=True)\n",
    "\n",
    "Subtitle=[]\n",
    "for item in df1['Subtitle']:\n",
    "    Subtitle+=[float(item.replace('Battery Electric Vehicle | ','').replace(' kWh','').replace('      ',''))]\n",
    "df1['Subtitle']=Subtitle"
   ]
  },
  {
   "cell_type": "code",
   "execution_count": 28,
   "metadata": {},
   "outputs": [
    {
     "data": {
      "text/plain": [
       "0     58.00\n",
       "1     31.00\n",
       "2     36.00\n",
       "3     86.50\n",
       "4     83.70\n",
       "       ... \n",
       "175   65.00\n",
       "176   76.00\n",
       "177   57.00\n",
       "178   76.60\n",
       "179   76.60\n",
       "Name: Subtitle, Length: 180, dtype: float64"
      ]
     },
     "execution_count": 28,
     "metadata": {},
     "output_type": "execute_result"
    }
   ],
   "source": [
    "df1['Subtitle']"
   ]
  },
  {
   "cell_type": "code",
   "execution_count": 29,
   "metadata": {},
   "outputs": [],
   "source": [
    "df1= df1.rename(columns = {'Subtitle':'KWH'})"
   ]
  },
  {
   "cell_type": "code",
   "execution_count": 30,
   "metadata": {},
   "outputs": [
    {
     "data": {
      "text/html": [
       "<div>\n",
       "<style scoped>\n",
       "    .dataframe tbody tr th:only-of-type {\n",
       "        vertical-align: middle;\n",
       "    }\n",
       "\n",
       "    .dataframe tbody tr th {\n",
       "        vertical-align: top;\n",
       "    }\n",
       "\n",
       "    .dataframe thead th {\n",
       "        text-align: right;\n",
       "    }\n",
       "</style>\n",
       "<table border=\"1\" class=\"dataframe\">\n",
       "  <thead>\n",
       "    <tr style=\"text-align: right;\">\n",
       "      <th></th>\n",
       "      <th>Name</th>\n",
       "      <th>KWH</th>\n",
       "      <th>Acceleration</th>\n",
       "      <th>TopSpeed</th>\n",
       "      <th>Range</th>\n",
       "      <th>Efficiency</th>\n",
       "      <th>FastChargeSpeed</th>\n",
       "      <th>Drive</th>\n",
       "      <th>NumberofSeats</th>\n",
       "      <th>PriceinGermany</th>\n",
       "      <th>PriceinUK</th>\n",
       "      <th>Manufacturer</th>\n",
       "    </tr>\n",
       "  </thead>\n",
       "  <tbody>\n",
       "    <tr>\n",
       "      <th>0</th>\n",
       "      <td>Opel Ampera-e</td>\n",
       "      <td>58.00</td>\n",
       "      <td>7.30</td>\n",
       "      <td>150</td>\n",
       "      <td>335</td>\n",
       "      <td>173</td>\n",
       "      <td>210.00</td>\n",
       "      <td>Front Wheel Drive</td>\n",
       "      <td>5</td>\n",
       "      <td>42990</td>\n",
       "      <td>0</td>\n",
       "      <td>Opel</td>\n",
       "    </tr>\n",
       "    <tr>\n",
       "      <th>1</th>\n",
       "      <td>Renault Kangoo Maxi ZE 33</td>\n",
       "      <td>31.00</td>\n",
       "      <td>22.40</td>\n",
       "      <td>130</td>\n",
       "      <td>160</td>\n",
       "      <td>194</td>\n",
       "      <td>0</td>\n",
       "      <td>Front Wheel Drive</td>\n",
       "      <td>5</td>\n",
       "      <td>0</td>\n",
       "      <td>31680</td>\n",
       "      <td>Renault</td>\n",
       "    </tr>\n",
       "    <tr>\n",
       "      <th>2</th>\n",
       "      <td>Nissan Leaf</td>\n",
       "      <td>36.00</td>\n",
       "      <td>7.90</td>\n",
       "      <td>144</td>\n",
       "      <td>220</td>\n",
       "      <td>164</td>\n",
       "      <td>230.00</td>\n",
       "      <td>Front Wheel Drive</td>\n",
       "      <td>5</td>\n",
       "      <td>29990</td>\n",
       "      <td>25995</td>\n",
       "      <td>Nissan</td>\n",
       "    </tr>\n",
       "    <tr>\n",
       "      <th>3</th>\n",
       "      <td>Audi e-tron Sportback 55 quattro</td>\n",
       "      <td>86.50</td>\n",
       "      <td>5.70</td>\n",
       "      <td>200</td>\n",
       "      <td>375</td>\n",
       "      <td>231</td>\n",
       "      <td>600.00</td>\n",
       "      <td>All Wheel Drive</td>\n",
       "      <td>5</td>\n",
       "      <td>0</td>\n",
       "      <td>79900</td>\n",
       "      <td>Audi</td>\n",
       "    </tr>\n",
       "    <tr>\n",
       "      <th>4</th>\n",
       "      <td>Porsche Taycan Turbo S</td>\n",
       "      <td>83.70</td>\n",
       "      <td>2.80</td>\n",
       "      <td>260</td>\n",
       "      <td>390</td>\n",
       "      <td>215</td>\n",
       "      <td>860.00</td>\n",
       "      <td>All Wheel Drive</td>\n",
       "      <td>4</td>\n",
       "      <td>186336</td>\n",
       "      <td>138830</td>\n",
       "      <td>Porsche</td>\n",
       "    </tr>\n",
       "  </tbody>\n",
       "</table>\n",
       "</div>"
      ],
      "text/plain": [
       "                               Name   KWH  Acceleration  TopSpeed  Range  \\\n",
       "0                    Opel Ampera-e  58.00          7.30       150    335   \n",
       "1         Renault Kangoo Maxi ZE 33 31.00         22.40       130    160   \n",
       "2                      Nissan Leaf  36.00          7.90       144    220   \n",
       "3  Audi e-tron Sportback 55 quattro 86.50          5.70       200    375   \n",
       "4            Porsche Taycan Turbo S 83.70          2.80       260    390   \n",
       "\n",
       "   Efficiency FastChargeSpeed              Drive  NumberofSeats  \\\n",
       "0         173          210.00  Front Wheel Drive              5   \n",
       "1         194               0  Front Wheel Drive              5   \n",
       "2         164          230.00  Front Wheel Drive              5   \n",
       "3         231          600.00    All Wheel Drive              5   \n",
       "4         215          860.00    All Wheel Drive              4   \n",
       "\n",
       "   PriceinGermany  PriceinUK Manufacturer  \n",
       "0           42990          0         Opel  \n",
       "1               0      31680      Renault  \n",
       "2           29990      25995       Nissan  \n",
       "3               0      79900         Audi  \n",
       "4          186336     138830      Porsche  "
      ]
     },
     "execution_count": 30,
     "metadata": {},
     "output_type": "execute_result"
    }
   ],
   "source": [
    "df1.head()"
   ]
  },
  {
   "cell_type": "code",
   "execution_count": 31,
   "metadata": {},
   "outputs": [
    {
     "name": "stdout",
     "output_type": "stream",
     "text": [
      "<class 'pandas.core.frame.DataFrame'>\n",
      "RangeIndex: 180 entries, 0 to 179\n",
      "Data columns (total 12 columns):\n",
      " #   Column           Non-Null Count  Dtype  \n",
      "---  ------           --------------  -----  \n",
      " 0   Name             180 non-null    object \n",
      " 1   KWH              180 non-null    float64\n",
      " 2   Acceleration     180 non-null    float64\n",
      " 3   TopSpeed         180 non-null    int64  \n",
      " 4   Range            180 non-null    int64  \n",
      " 5   Efficiency       180 non-null    int64  \n",
      " 6   FastChargeSpeed  180 non-null    object \n",
      " 7   Drive            180 non-null    object \n",
      " 8   NumberofSeats    180 non-null    int64  \n",
      " 9   PriceinGermany   180 non-null    int64  \n",
      " 10  PriceinUK        180 non-null    int64  \n",
      " 11  Manufacturer     180 non-null    object \n",
      "dtypes: float64(2), int64(6), object(4)\n",
      "memory usage: 17.0+ KB\n"
     ]
    }
   ],
   "source": [
    "df1.info()"
   ]
  },
  {
   "cell_type": "code",
   "execution_count": 32,
   "metadata": {},
   "outputs": [
    {
     "data": {
      "text/html": [
       "<div>\n",
       "<style scoped>\n",
       "    .dataframe tbody tr th:only-of-type {\n",
       "        vertical-align: middle;\n",
       "    }\n",
       "\n",
       "    .dataframe tbody tr th {\n",
       "        vertical-align: top;\n",
       "    }\n",
       "\n",
       "    .dataframe thead th {\n",
       "        text-align: right;\n",
       "    }\n",
       "</style>\n",
       "<table border=\"1\" class=\"dataframe\">\n",
       "  <thead>\n",
       "    <tr style=\"text-align: right;\">\n",
       "      <th></th>\n",
       "      <th>KWH</th>\n",
       "      <th>Acceleration</th>\n",
       "      <th>TopSpeed</th>\n",
       "      <th>Range</th>\n",
       "      <th>Efficiency</th>\n",
       "      <th>NumberofSeats</th>\n",
       "      <th>PriceinGermany</th>\n",
       "      <th>PriceinUK</th>\n",
       "    </tr>\n",
       "  </thead>\n",
       "  <tbody>\n",
       "    <tr>\n",
       "      <th>KWH</th>\n",
       "      <td>1.00</td>\n",
       "      <td>-0.62</td>\n",
       "      <td>0.69</td>\n",
       "      <td>0.89</td>\n",
       "      <td>0.36</td>\n",
       "      <td>0.13</td>\n",
       "      <td>0.60</td>\n",
       "      <td>0.62</td>\n",
       "    </tr>\n",
       "    <tr>\n",
       "      <th>Acceleration</th>\n",
       "      <td>-0.62</td>\n",
       "      <td>1.00</td>\n",
       "      <td>-0.82</td>\n",
       "      <td>-0.71</td>\n",
       "      <td>0.14</td>\n",
       "      <td>0.32</td>\n",
       "      <td>-0.50</td>\n",
       "      <td>-0.67</td>\n",
       "    </tr>\n",
       "    <tr>\n",
       "      <th>TopSpeed</th>\n",
       "      <td>0.69</td>\n",
       "      <td>-0.82</td>\n",
       "      <td>1.00</td>\n",
       "      <td>0.76</td>\n",
       "      <td>-0.05</td>\n",
       "      <td>-0.24</td>\n",
       "      <td>0.68</td>\n",
       "      <td>0.79</td>\n",
       "    </tr>\n",
       "    <tr>\n",
       "      <th>Range</th>\n",
       "      <td>0.89</td>\n",
       "      <td>-0.71</td>\n",
       "      <td>0.76</td>\n",
       "      <td>1.00</td>\n",
       "      <td>-0.07</td>\n",
       "      <td>-0.07</td>\n",
       "      <td>0.57</td>\n",
       "      <td>0.62</td>\n",
       "    </tr>\n",
       "    <tr>\n",
       "      <th>Efficiency</th>\n",
       "      <td>0.36</td>\n",
       "      <td>0.14</td>\n",
       "      <td>-0.05</td>\n",
       "      <td>-0.07</td>\n",
       "      <td>1.00</td>\n",
       "      <td>0.60</td>\n",
       "      <td>0.24</td>\n",
       "      <td>0.08</td>\n",
       "    </tr>\n",
       "    <tr>\n",
       "      <th>NumberofSeats</th>\n",
       "      <td>0.13</td>\n",
       "      <td>0.32</td>\n",
       "      <td>-0.24</td>\n",
       "      <td>-0.07</td>\n",
       "      <td>0.60</td>\n",
       "      <td>1.00</td>\n",
       "      <td>-0.01</td>\n",
       "      <td>-0.21</td>\n",
       "    </tr>\n",
       "    <tr>\n",
       "      <th>PriceinGermany</th>\n",
       "      <td>0.60</td>\n",
       "      <td>-0.50</td>\n",
       "      <td>0.68</td>\n",
       "      <td>0.57</td>\n",
       "      <td>0.24</td>\n",
       "      <td>-0.01</td>\n",
       "      <td>1.00</td>\n",
       "      <td>0.70</td>\n",
       "    </tr>\n",
       "    <tr>\n",
       "      <th>PriceinUK</th>\n",
       "      <td>0.62</td>\n",
       "      <td>-0.67</td>\n",
       "      <td>0.79</td>\n",
       "      <td>0.62</td>\n",
       "      <td>0.08</td>\n",
       "      <td>-0.21</td>\n",
       "      <td>0.70</td>\n",
       "      <td>1.00</td>\n",
       "    </tr>\n",
       "  </tbody>\n",
       "</table>\n",
       "</div>"
      ],
      "text/plain": [
       "                 KWH  Acceleration  TopSpeed  Range  Efficiency  \\\n",
       "KWH             1.00         -0.62      0.69   0.89        0.36   \n",
       "Acceleration   -0.62          1.00     -0.82  -0.71        0.14   \n",
       "TopSpeed        0.69         -0.82      1.00   0.76       -0.05   \n",
       "Range           0.89         -0.71      0.76   1.00       -0.07   \n",
       "Efficiency      0.36          0.14     -0.05  -0.07        1.00   \n",
       "NumberofSeats   0.13          0.32     -0.24  -0.07        0.60   \n",
       "PriceinGermany  0.60         -0.50      0.68   0.57        0.24   \n",
       "PriceinUK       0.62         -0.67      0.79   0.62        0.08   \n",
       "\n",
       "                NumberofSeats  PriceinGermany  PriceinUK  \n",
       "KWH                      0.13            0.60       0.62  \n",
       "Acceleration             0.32           -0.50      -0.67  \n",
       "TopSpeed                -0.24            0.68       0.79  \n",
       "Range                   -0.07            0.57       0.62  \n",
       "Efficiency               0.60            0.24       0.08  \n",
       "NumberofSeats            1.00           -0.01      -0.21  \n",
       "PriceinGermany          -0.01            1.00       0.70  \n",
       "PriceinUK               -0.21            0.70       1.00  "
      ]
     },
     "execution_count": 32,
     "metadata": {},
     "output_type": "execute_result"
    }
   ],
   "source": [
    "df1.corr()"
   ]
  },
  {
   "cell_type": "code",
   "execution_count": 33,
   "metadata": {},
   "outputs": [
    {
     "data": {
      "text/plain": [
       "<AxesSubplot:>"
      ]
     },
     "execution_count": 33,
     "metadata": {},
     "output_type": "execute_result"
    },
    {
     "data": {
      "image/png": "[encoded data removed]",
      "text/plain": [
       "<Figure size 576x432 with 2 Axes>"
      ]
     },
     "metadata": {
      "needs_background": "light"
     },
     "output_type": "display_data"
    }
   ],
   "source": [
    "plt.figure(figsize=(8,6))\n",
    "sns.heatmap(df1.corr(), annot=True)"
   ]
  },
  {
   "cell_type": "code",
   "execution_count": 34,
   "metadata": {},
   "outputs": [
    {
     "data": {
      "text/plain": [
       "<AxesSubplot:xlabel='Drive', ylabel='count'>"
      ]
     },
     "execution_count": 34,
     "metadata": {},
     "output_type": "execute_result"
    },
    {
     "data": {
      "image/png": "[encoded data removed]",
      "text/plain": [
       "<Figure size 432x288 with 1 Axes>"
      ]
     },
     "metadata": {
      "needs_background": "light"
     },
     "output_type": "display_data"
    }
   ],
   "source": [
    "sns.countplot(x = 'Drive', data = df1)\n"
   ]
  },
  {
   "cell_type": "code",
   "execution_count": 35,
   "metadata": {},
   "outputs": [
    {
     "data": {
      "text/plain": [
       "<AxesSubplot:xlabel='NumberofSeats', ylabel='count'>"
      ]
     },
     "execution_count": 35,
     "metadata": {},
     "output_type": "execute_result"
    },
    {
     "data": {
      "image/png": "[encoded data removed]",
      "text/plain": [
       "<Figure size 432x288 with 1 Axes>"
      ]
     },
     "metadata": {
      "needs_background": "light"
     },
     "output_type": "display_data"
    }
   ],
   "source": [
    "sns.countplot(x = 'NumberofSeats', data = df1)"
   ]
  },
  {
   "cell_type": "code",
   "execution_count": 36,
   "metadata": {},
   "outputs": [
    {
     "data": {
      "text/plain": [
       "<AxesSubplot:xlabel='NumberofSeats', ylabel='count'>"
      ]
     },
     "execution_count": 36,
     "metadata": {},
     "output_type": "execute_result"
    },
    {
     "data": {
      "image/png": "[encoded data removed]",
      "text/plain": [
       "<Figure size 576x432 with 1 Axes>"
      ]
     },
     "metadata": {
      "needs_background": "light"
     },
     "output_type": "display_data"
    }
   ],
   "source": [
    "plt.figure(figsize=(8,6))\n",
    "sns.countplot(x = 'NumberofSeats', hue='Drive', data=df1)"
   ]
  },
  {
   "cell_type": "code",
   "execution_count": 37,
   "metadata": {},
   "outputs": [
    {
     "data": {
      "text/plain": [
       "<AxesSubplot:xlabel='count', ylabel='Manufacturer'>"
      ]
     },
     "execution_count": 37,
     "metadata": {},
     "output_type": "execute_result"
    },
    {
     "data": {
      "image/png": "[encoded data removed]",
      "text/plain": [
       "<Figure size 1296x720 with 1 Axes>"
      ]
     },
     "metadata": {
      "needs_background": "light"
     },
     "output_type": "display_data"
    }
   ],
   "source": [
    "plt.figure(figsize=(18,10))\n",
    "sns.countplot(y = 'Manufacturer', data = df1)"
   ]
  },
  {
   "cell_type": "code",
   "execution_count": 38,
   "metadata": {},
   "outputs": [
    {
     "data": {
      "text/plain": [
       "<seaborn.axisgrid.FacetGrid at 0x7fe29c5f4760>"
      ]
     },
     "execution_count": 38,
     "metadata": {},
     "output_type": "execute_result"
    },
    {
     "data": {
      "image/png": "[encoded data removed]",
      "text/plain": [
       "<Figure size 557.5x432 with 1 Axes>"
      ]
     },
     "metadata": {
      "needs_background": "light"
     },
     "output_type": "display_data"
    }
   ],
   "source": [
    "sns.relplot(x=\"KWH\", y=\"Acceleration\", height=6,hue=\"Drive\",data=df1)\n"
   ]
  },
  {
   "cell_type": "code",
   "execution_count": 39,
   "metadata": {},
   "outputs": [
    {
     "data": {
      "text/plain": [
       "<seaborn.axisgrid.FacetGrid at 0x7fe29c84a700>"
      ]
     },
     "execution_count": 39,
     "metadata": {},
     "output_type": "execute_result"
    },
    {
     "data": {
      "image/png": "[encoded data removed]",
      "text/plain": [
       "<Figure size 517x432 with 1 Axes>"
      ]
     },
     "metadata": {
      "needs_background": "light"
     },
     "output_type": "display_data"
    }
   ],
   "source": [
    "sns.relplot(x=\"KWH\", y=\"Acceleration\", size=\"NumberofSeats\", height=6,sizes=(15, 100),data=df1)\n"
   ]
  },
  {
   "cell_type": "code",
   "execution_count": 40,
   "metadata": {},
   "outputs": [
    {
     "data": {
      "text/plain": [
       "<seaborn.axisgrid.FacetGrid at 0x7fe29d584ee0>"
      ]
     },
     "execution_count": 40,
     "metadata": {},
     "output_type": "execute_result"
    },
    {
     "data": {
      "image/png": "[encoded data removed]",
      "text/plain": [
       "<Figure size 557.5x432 with 1 Axes>"
      ]
     },
     "metadata": {
      "needs_background": "light"
     },
     "output_type": "display_data"
    }
   ],
   "source": [
    "sns.relplot(x=\"TopSpeed\", y=\"Range\",height=6, hue=\"Drive\",data=df1)\n"
   ]
  },
  {
   "cell_type": "code",
   "execution_count": 41,
   "metadata": {},
   "outputs": [
    {
     "data": {
      "text/plain": [
       "<seaborn.axisgrid.JointGrid at 0x7fe29c8fd7f0>"
      ]
     },
     "execution_count": 41,
     "metadata": {},
     "output_type": "execute_result"
    },
    {
     "data": {
      "image/png": "[encoded data removed]",
      "text/plain": [
       "<Figure size 432x432 with 3 Axes>"
      ]
     },
     "metadata": {
      "needs_background": "light"
     },
     "output_type": "display_data"
    }
   ],
   "source": [
    "sns.jointplot(x=df1[\"KWH\"], y=df1[\"Range\"], kind=\"hex\", color=\"#4CB391\")\n"
   ]
  },
  {
   "cell_type": "code",
   "execution_count": 42,
   "metadata": {},
   "outputs": [
    {
     "data": {
      "text/plain": [
       "<seaborn.axisgrid.JointGrid at 0x7fe29daf1f40>"
      ]
     },
     "execution_count": 42,
     "metadata": {},
     "output_type": "execute_result"
    },
    {
     "data": {
      "image/png": "[encoded data removed]",
      "text/plain": [
       "<Figure size 432x432 with 3 Axes>"
      ]
     },
     "metadata": {
      "needs_background": "light"
     },
     "output_type": "display_data"
    }
   ],
   "source": [
    "sns.jointplot(x=df1[\"KWH\"], y=df1[\"Efficiency\"], kind=\"hex\", color=\"#4CB391\")\n"
   ]
  },
  {
   "cell_type": "code",
   "execution_count": 43,
   "metadata": {},
   "outputs": [
    {
     "data": {
      "text/plain": [
       "<seaborn.axisgrid.FacetGrid at 0x7fe29dd7aa60>"
      ]
     },
     "execution_count": 43,
     "metadata": {},
     "output_type": "execute_result"
    },
    {
     "data": {
      "image/png": "[encoded data removed]",
      "text/plain": [
       "<Figure size 432x432 with 1 Axes>"
      ]
     },
     "metadata": {
      "needs_background": "light"
     },
     "output_type": "display_data"
    }
   ],
   "source": [
    "sns.relplot(x=\"FastChargeSpeed\", y=\"Efficiency\", height=6,data=df1)\n"
   ]
  },
  {
   "cell_type": "markdown",
   "metadata": {},
   "source": [
    "Machine Learning Model For Price Prediction of Electric Vehicles"
   ]
  },
  {
   "cell_type": "code",
   "execution_count": 44,
   "metadata": {},
   "outputs": [],
   "source": [
    " pd.options.mode.chained_assignment = None"
   ]
  },
  {
   "cell_type": "code",
   "execution_count": 45,
   "metadata": {},
   "outputs": [],
   "source": [
    "for i in range(0, len(df1[\"PriceinUK\"])):\n",
    "    if (df1[\"PriceinUK\"][i]==0):\n",
    "        val=df1[\"PriceinGermany\"][i]*0.85\n",
    "        df1[\"PriceinUK\"][i]=val"
   ]
  },
  {
   "cell_type": "code",
   "execution_count": null,
   "metadata": {},
   "outputs": [],
   "source": [
    "!pip install category_encoders"
   ]
  },
  {
   "cell_type": "code",
   "execution_count": 46,
   "metadata": {},
   "outputs": [],
   "source": [
    "import category_encoders as ce\n",
    "train_df=df1\n",
    "# create object of Ordinalencoding\n",
    "encoder= ce.OrdinalEncoder(cols=['Drive'],return_df=True,\n",
    "                           mapping=[{'col':'Drive',\n",
    "'mapping':{'Front Wheel Drive':1,'Rear Wheel Drive':2,'All Wheel Drive':3}}])\n",
    "#fit and transform train data \n",
    "df_train = encoder.fit_transform(train_df)#Original data"
   ]
  },
  {
   "cell_type": "code",
   "execution_count": 47,
   "metadata": {},
   "outputs": [
    {
     "data": {
      "text/html": [
       "<div>\n",
       "<style scoped>\n",
       "    .dataframe tbody tr th:only-of-type {\n",
       "        vertical-align: middle;\n",
       "    }\n",
       "\n",
       "    .dataframe tbody tr th {\n",
       "        vertical-align: top;\n",
       "    }\n",
       "\n",
       "    .dataframe thead th {\n",
       "        text-align: right;\n",
       "    }\n",
       "</style>\n",
       "<table border=\"1\" class=\"dataframe\">\n",
       "  <thead>\n",
       "    <tr style=\"text-align: right;\">\n",
       "      <th></th>\n",
       "      <th>Name</th>\n",
       "      <th>KWH</th>\n",
       "      <th>Acceleration</th>\n",
       "      <th>TopSpeed</th>\n",
       "      <th>Range</th>\n",
       "      <th>Efficiency</th>\n",
       "      <th>FastChargeSpeed</th>\n",
       "      <th>Drive</th>\n",
       "      <th>NumberofSeats</th>\n",
       "      <th>PriceinGermany</th>\n",
       "      <th>PriceinUK</th>\n",
       "      <th>Manufacturer</th>\n",
       "    </tr>\n",
       "  </thead>\n",
       "  <tbody>\n",
       "    <tr>\n",
       "      <th>0</th>\n",
       "      <td>Opel Ampera-e</td>\n",
       "      <td>58.00</td>\n",
       "      <td>7.30</td>\n",
       "      <td>150</td>\n",
       "      <td>335</td>\n",
       "      <td>173</td>\n",
       "      <td>210.00</td>\n",
       "      <td>1</td>\n",
       "      <td>5</td>\n",
       "      <td>42990</td>\n",
       "      <td>36541</td>\n",
       "      <td>Opel</td>\n",
       "    </tr>\n",
       "    <tr>\n",
       "      <th>1</th>\n",
       "      <td>Renault Kangoo Maxi ZE 33</td>\n",
       "      <td>31.00</td>\n",
       "      <td>22.40</td>\n",
       "      <td>130</td>\n",
       "      <td>160</td>\n",
       "      <td>194</td>\n",
       "      <td>0</td>\n",
       "      <td>1</td>\n",
       "      <td>5</td>\n",
       "      <td>0</td>\n",
       "      <td>31680</td>\n",
       "      <td>Renault</td>\n",
       "    </tr>\n",
       "    <tr>\n",
       "      <th>2</th>\n",
       "      <td>Nissan Leaf</td>\n",
       "      <td>36.00</td>\n",
       "      <td>7.90</td>\n",
       "      <td>144</td>\n",
       "      <td>220</td>\n",
       "      <td>164</td>\n",
       "      <td>230.00</td>\n",
       "      <td>1</td>\n",
       "      <td>5</td>\n",
       "      <td>29990</td>\n",
       "      <td>25995</td>\n",
       "      <td>Nissan</td>\n",
       "    </tr>\n",
       "    <tr>\n",
       "      <th>3</th>\n",
       "      <td>Audi e-tron Sportback 55 quattro</td>\n",
       "      <td>86.50</td>\n",
       "      <td>5.70</td>\n",
       "      <td>200</td>\n",
       "      <td>375</td>\n",
       "      <td>231</td>\n",
       "      <td>600.00</td>\n",
       "      <td>3</td>\n",
       "      <td>5</td>\n",
       "      <td>0</td>\n",
       "      <td>79900</td>\n",
       "      <td>Audi</td>\n",
       "    </tr>\n",
       "    <tr>\n",
       "      <th>4</th>\n",
       "      <td>Porsche Taycan Turbo S</td>\n",
       "      <td>83.70</td>\n",
       "      <td>2.80</td>\n",
       "      <td>260</td>\n",
       "      <td>390</td>\n",
       "      <td>215</td>\n",
       "      <td>860.00</td>\n",
       "      <td>3</td>\n",
       "      <td>4</td>\n",
       "      <td>186336</td>\n",
       "      <td>138830</td>\n",
       "      <td>Porsche</td>\n",
       "    </tr>\n",
       "    <tr>\n",
       "      <th>...</th>\n",
       "      <td>...</td>\n",
       "      <td>...</td>\n",
       "      <td>...</td>\n",
       "      <td>...</td>\n",
       "      <td>...</td>\n",
       "      <td>...</td>\n",
       "      <td>...</td>\n",
       "      <td>...</td>\n",
       "      <td>...</td>\n",
       "      <td>...</td>\n",
       "      <td>...</td>\n",
       "      <td>...</td>\n",
       "    </tr>\n",
       "    <tr>\n",
       "      <th>175</th>\n",
       "      <td>MG Marvel R</td>\n",
       "      <td>65.00</td>\n",
       "      <td>7.90</td>\n",
       "      <td>200</td>\n",
       "      <td>340</td>\n",
       "      <td>191</td>\n",
       "      <td>390.00</td>\n",
       "      <td>2</td>\n",
       "      <td>5</td>\n",
       "      <td>40000</td>\n",
       "      <td>34000</td>\n",
       "      <td>MG</td>\n",
       "    </tr>\n",
       "    <tr>\n",
       "      <th>176</th>\n",
       "      <td>Tesla Model 3 Long Range Dual Motor</td>\n",
       "      <td>76.00</td>\n",
       "      <td>4.40</td>\n",
       "      <td>233</td>\n",
       "      <td>490</td>\n",
       "      <td>155</td>\n",
       "      <td>820.00</td>\n",
       "      <td>3</td>\n",
       "      <td>5</td>\n",
       "      <td>53560</td>\n",
       "      <td>45526</td>\n",
       "      <td>Tesla</td>\n",
       "    </tr>\n",
       "    <tr>\n",
       "      <th>177</th>\n",
       "      <td>MG MG5 EV Long Range</td>\n",
       "      <td>57.00</td>\n",
       "      <td>7.70</td>\n",
       "      <td>185</td>\n",
       "      <td>340</td>\n",
       "      <td>168</td>\n",
       "      <td>340.00</td>\n",
       "      <td>1</td>\n",
       "      <td>5</td>\n",
       "      <td>0</td>\n",
       "      <td>26495</td>\n",
       "      <td>MG</td>\n",
       "    </tr>\n",
       "    <tr>\n",
       "      <th>178</th>\n",
       "      <td>Audi Q4 e-tron 45 quattro</td>\n",
       "      <td>76.60</td>\n",
       "      <td>6.90</td>\n",
       "      <td>180</td>\n",
       "      <td>385</td>\n",
       "      <td>199</td>\n",
       "      <td>470.00</td>\n",
       "      <td>3</td>\n",
       "      <td>5</td>\n",
       "      <td>50900</td>\n",
       "      <td>43265</td>\n",
       "      <td>Audi</td>\n",
       "    </tr>\n",
       "    <tr>\n",
       "      <th>179</th>\n",
       "      <td>Audi Q4 Sportback e-tron 40</td>\n",
       "      <td>76.60</td>\n",
       "      <td>8.50</td>\n",
       "      <td>160</td>\n",
       "      <td>425</td>\n",
       "      <td>180</td>\n",
       "      <td>520.00</td>\n",
       "      <td>2</td>\n",
       "      <td>5</td>\n",
       "      <td>49500</td>\n",
       "      <td>42075</td>\n",
       "      <td>Audi</td>\n",
       "    </tr>\n",
       "  </tbody>\n",
       "</table>\n",
       "<p>180 rows × 12 columns</p>\n",
       "</div>"
      ],
      "text/plain": [
       "                                    Name   KWH  Acceleration  TopSpeed  Range  \\\n",
       "0                         Opel Ampera-e  58.00          7.30       150    335   \n",
       "1              Renault Kangoo Maxi ZE 33 31.00         22.40       130    160   \n",
       "2                           Nissan Leaf  36.00          7.90       144    220   \n",
       "3       Audi e-tron Sportback 55 quattro 86.50          5.70       200    375   \n",
       "4                 Porsche Taycan Turbo S 83.70          2.80       260    390   \n",
       "..                                   ...   ...           ...       ...    ...   \n",
       "175                         MG Marvel R  65.00          7.90       200    340   \n",
       "176  Tesla Model 3 Long Range Dual Motor 76.00          4.40       233    490   \n",
       "177                 MG MG5 EV Long Range 57.00          7.70       185    340   \n",
       "178            Audi Q4 e-tron 45 quattro 76.60          6.90       180    385   \n",
       "179          Audi Q4 Sportback e-tron 40 76.60          8.50       160    425   \n",
       "\n",
       "     Efficiency FastChargeSpeed  Drive  NumberofSeats  PriceinGermany  \\\n",
       "0           173          210.00      1              5           42990   \n",
       "1           194               0      1              5               0   \n",
       "2           164          230.00      1              5           29990   \n",
       "3           231          600.00      3              5               0   \n",
       "4           215          860.00      3              4          186336   \n",
       "..          ...             ...    ...            ...             ...   \n",
       "175         191          390.00      2              5           40000   \n",
       "176         155          820.00      3              5           53560   \n",
       "177         168          340.00      1              5               0   \n",
       "178         199          470.00      3              5           50900   \n",
       "179         180          520.00      2              5           49500   \n",
       "\n",
       "     PriceinUK Manufacturer  \n",
       "0        36541         Opel  \n",
       "1        31680      Renault  \n",
       "2        25995       Nissan  \n",
       "3        79900         Audi  \n",
       "4       138830      Porsche  \n",
       "..         ...          ...  \n",
       "175      34000           MG  \n",
       "176      45526        Tesla  \n",
       "177      26495           MG  \n",
       "178      43265         Audi  \n",
       "179      42075         Audi  \n",
       "\n",
       "[180 rows x 12 columns]"
      ]
     },
     "execution_count": 47,
     "metadata": {},
     "output_type": "execute_result"
    }
   ],
   "source": [
    "df_train"
   ]
  },
  {
   "cell_type": "code",
   "execution_count": 48,
   "metadata": {},
   "outputs": [],
   "source": [
    "X= df_train.drop(['Name', 'PriceinGermany','PriceinUK','Manufacturer'], axis=1)\n",
    "X=X.values"
   ]
  },
  {
   "cell_type": "code",
   "execution_count": 49,
   "metadata": {},
   "outputs": [
    {
     "data": {
      "text/plain": [
       "array([[58.0, 7.3, 150, ..., 210.0, 1, 5],\n",
       "       [31.0, 22.4, 130, ..., '0', 1, 5],\n",
       "       [36.0, 7.9, 144, ..., 230.0, 1, 5],\n",
       "       ...,\n",
       "       [57.0, 7.7, 185, ..., 340.0, 1, 5],\n",
       "       [76.6, 6.9, 180, ..., 470.0, 3, 5],\n",
       "       [76.6, 8.5, 160, ..., 520.0, 2, 5]], dtype=object)"
      ]
     },
     "execution_count": 49,
     "metadata": {},
     "output_type": "execute_result"
    }
   ],
   "source": [
    "X"
   ]
  },
  {
   "cell_type": "code",
   "execution_count": 50,
   "metadata": {},
   "outputs": [],
   "source": [
    "y=df_train['PriceinUK'].values"
   ]
  },
  {
   "cell_type": "code",
   "execution_count": 51,
   "metadata": {},
   "outputs": [
    {
     "data": {
      "text/plain": [
       "(180, 8)"
      ]
     },
     "execution_count": 51,
     "metadata": {},
     "output_type": "execute_result"
    }
   ],
   "source": [
    "X.shape"
   ]
  },
  {
   "cell_type": "code",
   "execution_count": 52,
   "metadata": {},
   "outputs": [
    {
     "data": {
      "text/plain": [
       "(180,)"
      ]
     },
     "execution_count": 52,
     "metadata": {},
     "output_type": "execute_result"
    }
   ],
   "source": [
    "y.shape"
   ]
  },
  {
   "cell_type": "code",
   "execution_count": 53,
   "metadata": {},
   "outputs": [],
   "source": [
    "from sklearn.model_selection import train_test_split\n",
    "X_train, X_test, y_train, y_test = train_test_split(X, y, test_size=0.33, random_state=7)\n"
   ]
  },
  {
   "cell_type": "code",
   "execution_count": 54,
   "metadata": {},
   "outputs": [],
   "source": [
    "from sklearn.ensemble import RandomForestRegressor\n",
    "# create regressor object\n",
    "regressor = RandomForestRegressor(n_estimators = 300, random_state = 0)"
   ]
  },
  {
   "cell_type": "code",
   "execution_count": 55,
   "metadata": {},
   "outputs": [
    {
     "data": {
      "text/plain": [
       "RandomForestRegressor(n_estimators=300, random_state=0)"
      ]
     },
     "execution_count": 55,
     "metadata": {},
     "output_type": "execute_result"
    }
   ],
   "source": [
    "# fit the regressor with x and y data\n",
    "regressor.fit(X_train, y_train)"
   ]
  },
  {
   "cell_type": "code",
   "execution_count": 56,
   "metadata": {},
   "outputs": [],
   "source": [
    "y_pred= regressor.predict(X_test)\n"
   ]
  },
  {
   "cell_type": "code",
   "execution_count": 57,
   "metadata": {},
   "outputs": [
    {
     "data": {
      "text/plain": [
       "array([ 69905,  30730,  42000,  38845, 110980,  32550,  43248,  28420,\n",
       "        48000,  45145,  28500,  48824,  49750,      0,  57500,  51531,\n",
       "        49465,  45507,  41330,  25491,  45000,  88700,  74739,  59990,\n",
       "        21675,  55577,  29740,  43265,  32150,  87820,      0,  54000,\n",
       "        30500,  90980,  20495,  32121,  54850,  42075,  31500,  63905,\n",
       "        28730,  48490,  45900,  91905,  49495,  60600,      0,  30594,\n",
       "        45000,  87000, 118980,  65720,  30255,  30550,  43900,  41570,\n",
       "        48195,  70665,  29750,  83580])"
      ]
     },
     "execution_count": 57,
     "metadata": {},
     "output_type": "execute_result"
    }
   ],
   "source": [
    "y_test\n"
   ]
  },
  {
   "cell_type": "code",
   "execution_count": 58,
   "metadata": {},
   "outputs": [
    {
     "data": {
      "text/plain": [
       "array([ 54441.6325    ,  31066.27555556,  41380.        ,  45479.69333333,\n",
       "       114520.10011111,  35399.57666667,  40735.42897222,  32830.70111111,\n",
       "        54001.08666667,  54295.79666667,  31681.26083333,  49643.10804365,\n",
       "        40735.42897222,  35409.45458333,  64010.02277778,  49643.10804365,\n",
       "        46875.94537302,  44265.14      ,  47877.97145238,  26695.64938889,\n",
       "        53521.39666667,  71343.52896032,  74522.66555556,  86362.50333333,\n",
       "        31944.27194444,  49637.88687698,  33099.70666667,  50518.21761905,\n",
       "        36664.97611111,  84756.28011111,  26485.26066667,  55484.98333333,\n",
       "        33099.70666667,  81142.91716667,  23535.63061111,  36504.92666667,\n",
       "        49637.88687698,  41719.56333333,  31008.96444444,  71014.14102381,\n",
       "        33094.92033333,  53272.6       ,  54491.59777778,  64035.14169048,\n",
       "        49643.10804365,  58952.72694444,  23120.55166667,  37367.93833333,\n",
       "        48409.47016667,  70814.42507143, 127800.99333333,  53660.58111111,\n",
       "        32744.97711111,  28413.25134921,  35301.64230556,  41388.21666667,\n",
       "        40735.42897222,  56676.54561111,  31510.11222222,  76457.32611111])"
      ]
     },
     "execution_count": 58,
     "metadata": {},
     "output_type": "execute_result"
    }
   ],
   "source": [
    "y_pred\n"
   ]
  },
  {
   "cell_type": "code",
   "execution_count": 59,
   "metadata": {},
   "outputs": [
    {
     "name": "stdout",
     "output_type": "stream",
     "text": [
      "MAE:  7155.050407804233\n"
     ]
    }
   ],
   "source": [
    "#Mean Absolute Error(MAE)\n",
    "from sklearn.metrics import mean_absolute_error\n",
    "print(\"MAE: \",mean_absolute_error(y_test,y_pred))"
   ]
  },
  {
   "cell_type": "code",
   "execution_count": 60,
   "metadata": {},
   "outputs": [
    {
     "name": "stdout",
     "output_type": "stream",
     "text": [
      "MSE:  107902152.72013463\n"
     ]
    }
   ],
   "source": [
    "#Mean Squared Error(MSE)\n",
    "from sklearn.metrics import mean_squared_error\n",
    "print(\"MSE: \",mean_squared_error(y_test,y_pred))"
   ]
  },
  {
   "cell_type": "code",
   "execution_count": 61,
   "metadata": {},
   "outputs": [
    {
     "name": "stdout",
     "output_type": "stream",
     "text": [
      "RMSE:  10387.596099200942\n"
     ]
    }
   ],
   "source": [
    "#Root Mean Squared Error(RMSE)\n",
    "print(\"RMSE: \",np.sqrt(mean_squared_error(y_test,y_pred)))"
   ]
  },
  {
   "cell_type": "code",
   "execution_count": 62,
   "metadata": {},
   "outputs": [
    {
     "name": "stdout",
     "output_type": "stream",
     "text": [
      "R2:  0.815987092758551\n"
     ]
    }
   ],
   "source": [
    "#R Squared (R2)\n",
    "from sklearn.metrics import r2_score\n",
    "r2 = r2_score(y_test,y_pred)\n",
    "print(\"R2: \",r2)"
   ]
  }
 ],
 "metadata": {
  "kernelspec": {
   "display_name": "Python 3",
   "language": "python",
   "name": "python3"
  },
  "language_info": {
   "codemirror_mode": {
    "name": "ipython",
    "version": 3
   },
   "file_extension": ".py",
   "mimetype": "text/x-python",
   "name": "python",
   "nbconvert_exporter": "python",
   "pygments_lexer": "ipython3",
   "version": "3.8.5"
  }
 },
 "nbformat": 4,
 "nbformat_minor": 4
}
